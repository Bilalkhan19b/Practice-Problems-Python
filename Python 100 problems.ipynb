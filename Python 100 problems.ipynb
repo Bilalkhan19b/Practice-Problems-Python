{
 "cells": [
  {
   "cell_type": "code",
   "execution_count": 13,
   "id": "0808951c",
   "metadata": {},
   "outputs": [
    {
     "name": "stdout",
     "output_type": "stream",
     "text": [
      "Enter age 1 :34\n",
      "Enter age 2 :546\n",
      "Enter age 3 :12\n",
      "The oldest one is 546\n"
     ]
    }
   ],
   "source": [
    "# 1. User will input (3ages).Find the oldest one\n",
    "ages = []\n",
    "for i in range(1,4):\n",
    "    a = int(input(\"Enter age {} :\".format(i)))\n",
    "    ages.append(a)\n",
    "    \n",
    "print(\"The oldest one is\",max(ages))"
   ]
  },
  {
   "cell_type": "code",
   "execution_count": 23,
   "id": "d9502484",
   "metadata": {},
   "outputs": [
    {
     "name": "stdout",
     "output_type": "stream",
     "text": [
      "Enter temp in celsius 100.4\n",
      "Temp in fahrenheit is  212.7\n"
     ]
    }
   ],
   "source": [
    "# 2. Write a program that will convert celsius value to fahrenheit\n",
    "c = float(input(\"Enter temp in celsius \"))\n",
    "f = round(c * (9/5) + 32 , 1)\n",
    "print(\"Temp in fahrenheit is \",f)"
   ]
  },
  {
   "cell_type": "code",
   "execution_count": 25,
   "id": "ae64ee20",
   "metadata": {},
   "outputs": [
    {
     "name": "stdout",
     "output_type": "stream",
     "text": [
      "Enter value of a 2\n",
      "Enter value of b 7\n",
      "a =  7\n",
      "b =  2\n"
     ]
    }
   ],
   "source": [
    "# 3. User will input (2numbers).Write a program to swap the numbers\n",
    "a = int(input(\"Enter value of a \"))\n",
    "b = int(input(\"Enter value of b \"))\n",
    "a,b = b,a\n",
    "print(\"a = \",a)\n",
    "print(\"b = \",b)"
   ]
  },
  {
   "cell_type": "code",
   "execution_count": 34,
   "id": "f446d631",
   "metadata": {},
   "outputs": [
    {
     "name": "stdout",
     "output_type": "stream",
     "text": [
      "Enter value of a 2\n",
      "Enter value of b 3\n",
      "a = 3\n",
      "b = 2\n"
     ]
    }
   ],
   "source": [
    "# 3. User will input (2numbers).Write a program to swap the numbers\n",
    "a = int(input(\"Enter value of a \"))\n",
    "b = int(input(\"Enter value of b \"))\n",
    "a = a+b\n",
    "b = a-b\n",
    "a = a-b\n",
    "print(\"a =\",a)\n",
    "print(\"b =\",b)"
   ]
  },
  {
   "cell_type": "code",
   "execution_count": 56,
   "id": "99d94060",
   "metadata": {},
   "outputs": [
    {
     "name": "stdout",
     "output_type": "stream",
     "text": [
      "enter a 3 digit number: 123\n",
      "6\n"
     ]
    }
   ],
   "source": [
    "# 4. Write a program that will give you the sum of 3 digits number.\n",
    "\n",
    "num=int(input(\"enter a 3 digit number: \"))\n",
    "a = str(num)\n",
    "sum = 0\n",
    "for i in a:\n",
    "    a = int(i)\n",
    "    sum = sum + a\n",
    "print(sum)"
   ]
  },
  {
   "cell_type": "code",
   "execution_count": 47,
   "id": "cb1eb0b9",
   "metadata": {},
   "outputs": [
    {
     "name": "stdout",
     "output_type": "stream",
     "text": [
      "enter a 4 digit number1234\n",
      "4321\n"
     ]
    },
    {
     "data": {
      "text/plain": [
       "False"
      ]
     },
     "execution_count": 47,
     "metadata": {},
     "output_type": "execute_result"
    }
   ],
   "source": [
    "# 5. Write a program that will reverse a four digit number.\n",
    "# Also it checks whether the reverse is true.\n",
    "      \n",
    "a = int(input(\"enter a 4 digit number\"))\n",
    "b = str(a)[::-1]\n",
    "print(b)\n",
    "\n",
    "a == b[::-1]"
   ]
  },
  {
   "cell_type": "code",
   "execution_count": 55,
   "id": "141728eb",
   "metadata": {},
   "outputs": [
    {
     "name": "stdout",
     "output_type": "stream",
     "text": [
      "Enter a 4 digit number: 1234\n",
      "reversed: 4321\n"
     ]
    }
   ],
   "source": [
    "# 5. Write a program that will reverse a four digit number.\n",
    "num = int(input(\"Enter a 4 digit number: \")) #1234\n",
    "a = num % 10 #4\n",
    "num = num // 10 #123\n",
    "\n",
    "b = num % 10 #3\n",
    "num = num // 10 #12\n",
    "\n",
    "c = num % 10 #2\n",
    "\n",
    "d = num // 10 #1\n",
    "\n",
    "rev = 1000*a + 100*b + 10*c + d\n",
    "    \n",
    "print(\"reversed:\",rev)"
   ]
  },
  {
   "cell_type": "code",
   "execution_count": 10,
   "id": "803318ab",
   "metadata": {},
   "outputs": [
    {
     "name": "stdout",
     "output_type": "stream",
     "text": [
      "Enter a number: 455\n",
      "Odd\n"
     ]
    }
   ],
   "source": [
    "# 6. Write a program that will tell whether the number entered by the user is odd or even\n",
    "a = int(input(\"Enter a number: \"))\n",
    "\n",
    "if a%2 ==0:\n",
    "    print(\"Even\")\n",
    "else:\n",
    "    print(\"Odd\")"
   ]
  },
  {
   "cell_type": "code",
   "execution_count": 1,
   "id": "a3198d56",
   "metadata": {},
   "outputs": [
    {
     "data": {
      "text/plain": [
       "55"
      ]
     },
     "execution_count": 1,
     "metadata": {},
     "output_type": "execute_result"
    }
   ],
   "source": [
    "# 7. Write a function to find sum of all elements in nested list.\n",
    "\n",
    "def add_list(L1):\n",
    "    total = 0  # Initialize a variable to store the sum\n",
    "    for i in L1:\n",
    "        if type(i) == list:\n",
    "            total += add_list(i)  # Recursively call the function for nested lists\n",
    "        elif type(i) == int:\n",
    "            total += i  # Add integer items to the total\n",
    "    return total\n",
    "\n",
    "add_list([1, 4, [6, 8, [5, 4, 4, 7], 9], 2, 5])\n",
    "\n",
    "\n",
    "\n",
    "# def add_list(L1):\n",
    "#     total = 0\n",
    "#     for i in L1:\n",
    "#         if isinstance(i, int):\n",
    "#             total = total + i\n",
    "#         elif isinstance(i, list):\n",
    "#             total = total + add_list(i)\n",
    "#     return total\n",
    "\n",
    "# add_list([1,4,[6,8,[5,4,4,7],9],2,5])"
   ]
  },
  {
   "cell_type": "code",
   "execution_count": 12,
   "id": "bd13cde9",
   "metadata": {},
   "outputs": [
    {
     "name": "stdout",
     "output_type": "stream",
     "text": [
      "Enter year: 2023\n",
      "Not a Leap Year\n"
     ]
    }
   ],
   "source": [
    "# 8. Write a program that will tell whether the given year is a leap year or not.\n",
    "\n",
    "a = int(input(\"Enter year: \"))\n",
    "\n",
    "if a%4 == 0:\n",
    "    print(\"Leap year\")\n",
    "else:\n",
    "    print(\"Not a Leap Year\")"
   ]
  },
  {
   "cell_type": "code",
   "execution_count": 13,
   "id": "1f77c2a5",
   "metadata": {},
   "outputs": [
    {
     "name": "stdout",
     "output_type": "stream",
     "text": [
      "Enter x1 of x-coordinate: 2\n",
      "Enter y1 of y-coordinate: 4\n",
      "Enter x2 of x-coordinate: 7\n",
      "Enter y2 of y-coordinate: 4\n",
      "5.0\n"
     ]
    }
   ],
   "source": [
    "# 9. Write a program to find the euclidean distance between two coordinates.\n",
    "x1 = float(input(\"Enter x1 of x-coordinate: \"))\n",
    "y1 = float(input(\"Enter y1 of y-coordinate: \"))\n",
    "x2 = float(input(\"Enter x2 of x-coordinate: \"))\n",
    "y2 = float(input(\"Enter y2 of y-coordinate: \"))\n",
    "\n",
    "d = ((x2 - x1)**2 + (y2 - y1)**2)**0.5\n",
    "\n",
    "print(d)"
   ]
  },
  {
   "cell_type": "code",
   "execution_count": 17,
   "id": "82caeda2",
   "metadata": {},
   "outputs": [
    {
     "name": "stdout",
     "output_type": "stream",
     "text": [
      "Enter first angle: 0\n",
      "Enter second angle: 0\n",
      "Enter third angle: 180\n",
      "Can not form a triangle\n"
     ]
    }
   ],
   "source": [
    "# 10. Write a program that take a user input of three angles and\n",
    "# will find out whether it can form a triangle or not.\n",
    "a1 = float(input(\"Enter first angle: \"))\n",
    "a2 = float(input(\"Enter second angle: \"))\n",
    "a3 = float(input(\"Enter third angle: \"))\n",
    "\n",
    "if a1 + a2 + a3 == 180 and a1!=0 and a2!=0 and a3!=0:\n",
    "    print(\"Can form a triangle\")\n",
    "else:\n",
    "    print(\"Can not form a triangle\")"
   ]
  },
  {
   "cell_type": "code",
   "execution_count": 5,
   "id": "d69f44f4",
   "metadata": {},
   "outputs": [
    {
     "name": "stdout",
     "output_type": "stream",
     "text": [
      "Enter cost price: 5\n",
      "Enter selling price: 10\n",
      "Profit: 5\n"
     ]
    }
   ],
   "source": [
    "# 11. Write a program that will take user input of cost price and\n",
    "# selling price and determines whether its a loss or a profit.\n",
    "# and calculate amount of loss and profit\n",
    "\n",
    "a = int(input(\"Enter cost price: \"))\n",
    "b = int(input(\"Enter selling price: \"))\n",
    "\n",
    "if a>b:\n",
    "    print(\"Loss:\",a-b)\n",
    "    print(a-b)\n",
    "elif a == b:\n",
    "    print(\"No profit , No loss\")\n",
    "else:\n",
    "    print(\"Profit:\",b-a)"
   ]
  },
  {
   "cell_type": "code",
   "execution_count": 12,
   "id": "03a8571f",
   "metadata": {},
   "outputs": [
    {
     "name": "stdout",
     "output_type": "stream",
     "text": [
      "Enter the value of principle: 1000\n",
      "Enter rate of interest: 2\n",
      "Enter time period in years: 3\n",
      "Your simple interest is: 60.0\n",
      "Your simple interest amount is: 1060.0\n"
     ]
    }
   ],
   "source": [
    "# 12. Write a program to find the simple interest when the value \n",
    "# of principle,rate of interest and time period is given.\n",
    "\n",
    "P = float(input(\"Enter the value of principle: \"))\n",
    "R = float(input(\"Enter rate of interest: \"))\n",
    "T = float(input(\"Enter time period in years: \"))\n",
    "simple_interest = (P*R*T)/100\n",
    "amount = P + simple_interest\n",
    "print(\"Your simple interest is:\",simple_interest)\n",
    "print(\"Your simple interest amount is:\",amount)"
   ]
  },
  {
   "cell_type": "code",
   "execution_count": 4,
   "id": "d9a486b1",
   "metadata": {},
   "outputs": [
    {
     "name": "stdout",
     "output_type": "stream",
     "text": [
      "Enter a number: 48\n",
      "Divisible by 3 and 6\n"
     ]
    }
   ],
   "source": [
    "# 13. Write  a program that will tell whether the given number is divisible by 3 & 6.\n",
    "\n",
    "a = int(input(\"Enter a number: \"))\n",
    "\n",
    "if a%3 == 0 and a%6 == 0:\n",
    "    print(\"Divisible by 3 and 6\")\n",
    "    \n",
    "elif a%3 ==0:\n",
    "    print(\"Divisible by 3\")\n",
    "    \n",
    "elif a%6 == 0:\n",
    "    print(\"Divisible by 6\")\n",
    "    \n",
    "else:\n",
    "    print(\"Not divisible\")"
   ]
  },
  {
   "cell_type": "code",
   "execution_count": 5,
   "id": "bbaf6944",
   "metadata": {},
   "outputs": [
    {
     "name": "stdout",
     "output_type": "stream",
     "text": [
      "Enter 3 digit number123\n",
      "14\n"
     ]
    }
   ],
   "source": [
    "# 14. Write a program that will take three digits from the user and add the square of each digit.\n",
    "n = int(input(\"Enter 3 digit number\")) #123\n",
    "\n",
    "a = n%10 #3\n",
    "n = n//10 #12\n",
    "b = n%10 #2\n",
    "c = n//10 #1\n",
    "\n",
    "sq = (a**2) + (b**2) + (c**2) #1^2+2^2+3^2=14\n",
    "print(sq)"
   ]
  },
  {
   "cell_type": "code",
   "execution_count": 11,
   "id": "0dad99fc",
   "metadata": {},
   "outputs": [
    {
     "name": "stdout",
     "output_type": "stream",
     "text": [
      "Enter a number: 123\n",
      "123 is not an armstrong number\n"
     ]
    }
   ],
   "source": [
    "# 15. Write a program that will check whether the number is armstrong number or not.\n",
    "\n",
    "def is_arm(number):\n",
    "    \n",
    "    # Convert the number to a string to count its digits\n",
    "    num_str = str(number)\n",
    "    \n",
    "    # Calculate the number of digits in the given number\n",
    "    num_digits = len(num_str)\n",
    "    \n",
    "    # Initialize a variable to store the sum of digits ** num_digits\n",
    "    sum = 0\n",
    "    \n",
    "    # Iterate through each digit in the number\n",
    "    for i in num_str:\n",
    "        sum = sum + int(i)**num_digits\n",
    "    \n",
    "    # Check if the sum is equal to the original number\n",
    "    return sum == number\n",
    "\n",
    "\n",
    "# Input from the user\n",
    "num = int(input(\"Enter a number: \"))\n",
    "\n",
    "# Check if it's an Armstrong number\n",
    "if is_arm(num):\n",
    "    print(\"{} is an armstrong number\".format(num))\n",
    "else:\n",
    "    print(\"{} is not an armstrong number\".format(num))"
   ]
  },
  {
   "cell_type": "code",
   "execution_count": 28,
   "id": "d89a70a1",
   "metadata": {},
   "outputs": [
    {
     "name": "stdout",
     "output_type": "stream",
     "text": [
      "Enter a number: 1634\n",
      "1634\n",
      "Narcissist\n"
     ]
    }
   ],
   "source": [
    "# 16. Write a program that will take user input of (4 digits number) and\n",
    "# check whether the number is narcissist number or not.\n",
    "\n",
    "num = int(input(\"Enter a number: \")) #1234\n",
    "\n",
    "n = num\n",
    "\n",
    "a = n%10 #4\n",
    "n = n//10 #123\n",
    "b = n%10 #3\n",
    "n = n//10 #12\n",
    "c = n%10 #2\n",
    "d = n//10 #1\n",
    "\n",
    "x = (d**4)+(c**4)+(b**4)+(a**4)\n",
    "print(x)\n",
    "\n",
    "if x == num:\n",
    "    print(\"Narcissist\")\n",
    "else:\n",
    "    print(\"Not Narcissist\")"
   ]
  },
  {
   "cell_type": "code",
   "execution_count": 45,
   "id": "2daf87c6",
   "metadata": {},
   "outputs": [
    {
     "name": "stdout",
     "output_type": "stream",
     "text": [
      "Enter the total salary: 170000\n",
      "your HRA is: 17000.0\n",
      "your DA is: 8500.0\n",
      "your Gross salary is: 144500.0\n",
      "your Tax amount is: 0.0\n",
      "your PF is: 5100.0\n",
      "your in hand salary is --> 139400.0\n"
     ]
    }
   ],
   "source": [
    "# 17. Write a program that will give you the in hand salary after deduction \n",
    "# of HRA(10%),DA(5%),PF(3%), and tax(if salary is between 5-10 lakh then tax will be10%),\n",
    "# (11-20lakh the tax will be 20%),(greater than 20 lakh then tax will be 30%)(no tax on 0-1 lakh).\n",
    "\n",
    "basic_sal = int(input(\"Enter the total salary: \"))\n",
    "\n",
    "HRA_rate = 0.10\n",
    "DA_rate = 0.05\n",
    "PF_rate = 0.03\n",
    "\n",
    "HRA = basic_sal * HRA_rate\n",
    "DA = basic_sal * DA_rate\n",
    "PF = basic_sal * PF_rate\n",
    "\n",
    "gross = basic_sal - (HRA + DA)\n",
    "\n",
    "if gross < 100000:\n",
    "    tax_rate = 0.0\n",
    "elif 500000 < gross < 1000000:\n",
    "    tax_rat = 0.10\n",
    "elif 1000000 <= gross < 2000000:\n",
    "    tax_rate = 0.20\n",
    "elif gross > 2000000:\n",
    "    tax_rate = 0.30\n",
    "    \n",
    "tax = gross * tax_rate\n",
    "\n",
    "in_hand_sal = gross - (tax + PF)\n",
    "print(\"your HRA is:\",HRA)\n",
    "print(\"your DA is:\",DA)\n",
    "print(\"your Gross salary is:\",gross)\n",
    "print(\"your Tax amount is:\",tax)\n",
    "print(\"your PF is:\",PF)\n",
    "print(\"your in hand salary is -->\",in_hand_sal)"
   ]
  },
  {
   "cell_type": "code",
   "execution_count": 17,
   "id": "6ae8eaea",
   "metadata": {},
   "outputs": [
    {
     "name": "stdout",
     "output_type": "stream",
     "text": [
      "\n",
      "        1. Enter 1 to convert cm into ft\n",
      "        2. Enter 2 to convert km into miles\n",
      "        3. Enter 3 to convert USD to PKR\n",
      "        4. Enter 4 to exit\n",
      "4\n",
      "EXIT\n"
     ]
    }
   ],
   "source": [
    "# 18. Write a menu driven program - 1.cm to ft  2.km to miles  3.usd to pkr  4.exit\n",
    "\n",
    "user_input = input(\"\"\"\n",
    "        1. Enter 1 to convert cm into ft\n",
    "        2. Enter 2 to convert km into miles\n",
    "        3. Enter 3 to convert USD to PKR\n",
    "        4. Enter 4 to exit\n",
    "\"\"\")\n",
    "\n",
    "if user_input == \"1\":\n",
    "    cm_to_ft()\n",
    "elif user_input == \"2\":\n",
    "    km_to_miles()\n",
    "elif user_input == \"3\":\n",
    "    usd_to_pkr()\n",
    "elif user_input == \"4\":\n",
    "    print(\"EXIT\")\n",
    "\n",
    "def cm_to_ft():\n",
    "    cm = float(input(\"Enter length in cm: \"))\n",
    "    ft = cm * 0.0328\n",
    "    print(ft,\"ft\")\n",
    "\n",
    "def km_to_miles():\n",
    "    km = float(input(\"Enter distance in km: \"))\n",
    "    miles = km * 0.621371\n",
    "    print(miles,\"miles\")\n",
    "    \n",
    "def usd_to_pkr():\n",
    "    usd = float(input(\"Enter the amount in USD: \"))\n",
    "    pkr = usd * 290\n",
    "    print(pkr,\"PKR\")\n",
    "\n"
   ]
  },
  {
   "cell_type": "code",
   "execution_count": 18,
   "id": "ca4c4389",
   "metadata": {},
   "outputs": [
    {
     "name": "stdout",
     "output_type": "stream",
     "text": [
      "Enter number of dogs: 2\n",
      "Enter number of chickens: 2\n",
      "4 heads and 12 legs\n"
     ]
    }
   ],
   "source": [
    "# 19. Write a program that will tell the number of dogs and chicken are \n",
    "# there when the user will provide the value of total heads and legs.\n",
    "\n",
    "dogs = int(input(\"Enter number of dogs: \"))\n",
    "chickens = int(input(\"Enter number of chickens: \"))\n",
    "\n",
    "heads = dogs + chickens\n",
    "legs = (dogs * 4) + (chickens * 2)\n",
    "\n",
    "print(\"{} heads and {} legs\".format(heads,legs))"
   ]
  },
  {
   "cell_type": "code",
   "execution_count": 23,
   "id": "6c0e2fb4",
   "metadata": {},
   "outputs": [
    {
     "name": "stdout",
     "output_type": "stream",
     "text": [
      "Enter the value of n: 10\n",
      "55\n"
     ]
    }
   ],
   "source": [
    "# 20. Write a program to find the sum of first n numbers, where n will be \n",
    "# provided by the user. Eg if the user provides n=10 the output should be 55.\n",
    "\n",
    "n = int(input(\"Enter the value of n: \"))\n",
    "sum = 0\n",
    "for i in range(n+1):\n",
    "    sum = sum + i\n",
    "print(sum)"
   ]
  },
  {
   "cell_type": "code",
   "execution_count": 32,
   "id": "76f8f0d8",
   "metadata": {},
   "outputs": [
    {
     "name": "stdout",
     "output_type": "stream",
     "text": [
      "Enter first nummber: 2\n",
      "Enter second number: 3\n",
      "6\n"
     ]
    }
   ],
   "source": [
    "# 21. Write a program that can multiply 2 numbers provided by the user without\n",
    "# using the * operator\n",
    "\n",
    "a = int(input(\"Enter first nummber: \"))\n",
    "b = int(input(\"Enter second number: \"))\n",
    "\n",
    "sum = 0\n",
    "for i in range(b):\n",
    "    sum = sum + a\n",
    "print(sum)"
   ]
  },
  {
   "cell_type": "code",
   "execution_count": 54,
   "id": "5a0dd16a",
   "metadata": {},
   "outputs": [],
   "source": [
    "# 22. Write a program that can find the factorial of a given number provided by the user."
   ]
  },
  {
   "cell_type": "code",
   "execution_count": 2,
   "id": "1fe69da2",
   "metadata": {},
   "outputs": [
    {
     "data": {
      "text/plain": [
       "120"
      ]
     },
     "execution_count": 2,
     "metadata": {},
     "output_type": "execute_result"
    }
   ],
   "source": [
    "def factorial_iterative(n):\n",
    "    if n>0:\n",
    "        result = 1\n",
    "        for i in range(1, n + 1):\n",
    "            result *= i\n",
    "        return result\n",
    "    else:\n",
    "        print(\"Not possible\")\n",
    "\n",
    "factorial_iterative(5)"
   ]
  },
  {
   "cell_type": "code",
   "execution_count": 2,
   "id": "8a5bb01b",
   "metadata": {},
   "outputs": [
    {
     "data": {
      "text/plain": [
       "120"
      ]
     },
     "execution_count": 2,
     "metadata": {},
     "output_type": "execute_result"
    }
   ],
   "source": [
    "def factorial_recursive(n):\n",
    "    if n>0:\n",
    "        if n == 1:\n",
    "            return 1\n",
    "        else:\n",
    "            return n * factorial_recursive(n - 1)\n",
    "    else:\n",
    "        print(\"Not possible\")\n",
    "        \n",
    "factorial_recursive(5)"
   ]
  },
  {
   "cell_type": "code",
   "execution_count": 53,
   "id": "1c51c8be",
   "metadata": {},
   "outputs": [
    {
     "data": {
      "text/plain": [
       "120"
      ]
     },
     "execution_count": 53,
     "metadata": {},
     "output_type": "execute_result"
    }
   ],
   "source": [
    "def factorial_while_loop(n):\n",
    "    if n>0:\n",
    "        result = 1\n",
    "        while n > 0:\n",
    "            result *= n\n",
    "            n -= 1\n",
    "        return result\n",
    "    else:\n",
    "        print(\"Not possible\")\n",
    "\n",
    "factorial_while_loop(5)"
   ]
  },
  {
   "cell_type": "code",
   "execution_count": 14,
   "id": "36e43a93",
   "metadata": {},
   "outputs": [
    {
     "data": {
      "text/plain": [
       "120"
      ]
     },
     "execution_count": 14,
     "metadata": {},
     "output_type": "execute_result"
    }
   ],
   "source": [
    "import math\n",
    "\n",
    "def factorial_math_library(n):\n",
    "    return math.factorial(n)\n",
    "\n",
    "factorial_math_library(5)"
   ]
  },
  {
   "cell_type": "code",
   "execution_count": 1,
   "id": "3d018448",
   "metadata": {},
   "outputs": [
    {
     "data": {
      "text/plain": [
       "120"
      ]
     },
     "execution_count": 1,
     "metadata": {},
     "output_type": "execute_result"
    }
   ],
   "source": [
    "from functools import reduce\n",
    "\n",
    "def factorial_reduce(n):\n",
    "    return reduce(lambda x, y: x * y, range(1, n + 1), 1)\n",
    "\n",
    "factorial_reduce(5)"
   ]
  },
  {
   "cell_type": "code",
   "execution_count": 8,
   "id": "22190abb",
   "metadata": {},
   "outputs": [
    {
     "name": "stdout",
     "output_type": "stream",
     "text": [
      "1\n",
      "3\n",
      "5\n",
      "7\n",
      "9\n",
      "11\n",
      "13\n",
      "15\n",
      "17\n",
      "19\n",
      "21\n",
      "23\n",
      "25\n",
      "27\n",
      "29\n",
      "31\n",
      "33\n",
      "35\n",
      "37\n",
      "39\n",
      "41\n",
      "43\n",
      "45\n",
      "47\n",
      "49\n"
     ]
    }
   ],
   "source": [
    "# 23. Write a program to print the first 25 odd numbers\n",
    "flag = 0\n",
    "i = 1\n",
    "\n",
    "while True:\n",
    "    if i % 2 != 0:\n",
    "        print(i)\n",
    "        flag = flag + 1\n",
    "    if flag == 25:\n",
    "        break\n",
    "    i = i + 1"
   ]
  },
  {
   "cell_type": "code",
   "execution_count": 5,
   "id": "c2e14153",
   "metadata": {},
   "outputs": [
    {
     "name": "stdout",
     "output_type": "stream",
     "text": [
      "1\n",
      "3\n",
      "5\n",
      "7\n",
      "9\n",
      "11\n",
      "13\n",
      "15\n",
      "17\n",
      "19\n",
      "21\n",
      "23\n",
      "25\n",
      "27\n",
      "29\n",
      "31\n",
      "33\n",
      "35\n",
      "37\n",
      "39\n",
      "41\n",
      "43\n",
      "45\n",
      "47\n",
      "49\n"
     ]
    }
   ],
   "source": [
    "# 23. Write a program to print the first 25 odd numbers\n",
    "a = 0\n",
    "for i in range(1,100,2):\n",
    "    if a == 25:\n",
    "        break\n",
    "    else:\n",
    "        print(i)\n",
    "        a = a+1"
   ]
  },
  {
   "cell_type": "code",
   "execution_count": 33,
   "id": "eef17626",
   "metadata": {},
   "outputs": [
    {
     "name": "stdout",
     "output_type": "stream",
     "text": [
      "Enter a number: 2\n",
      "2 is a prime number\n"
     ]
    }
   ],
   "source": [
    "# 24. Write a program to print whether a given number is prime number or not\n",
    "\n",
    "n = int(input(\"Enter a number: \"))\n",
    "if n == 2:\n",
    "    print(n,\"is a prime number\")\n",
    "elif n > 2:\n",
    "    for i in range(2,n):\n",
    "        if n % i == 0:\n",
    "            print(n,\"is not a prime number\")\n",
    "            break\n",
    "    else:\n",
    "        print(n,\"is a prime number\")\n",
    "else:\n",
    "    print(n,\"is not a prime number\")"
   ]
  },
  {
   "cell_type": "code",
   "execution_count": 74,
   "id": "1d2da43a",
   "metadata": {},
   "outputs": [
    {
     "name": "stdout",
     "output_type": "stream",
     "text": [
      "153\n",
      "370\n",
      "371\n",
      "407\n",
      "1000\n"
     ]
    }
   ],
   "source": [
    "# 25. Print all the armstrong numbers in the range of 100 to 1000\n",
    "\n",
    "for i in range(100,1001):\n",
    "    temp = i\n",
    "    a = i%10\n",
    "    i = i//10\n",
    "    b = i%10\n",
    "    c = i//10\n",
    "    if a**3 + b**3 + c**3 == temp:\n",
    "        print(temp)"
   ]
  },
  {
   "cell_type": "code",
   "execution_count": 82,
   "id": "6e528886",
   "metadata": {},
   "outputs": [
    {
     "name": "stdout",
     "output_type": "stream",
     "text": [
      "1 2\n",
      "1 3\n",
      "1 4\n",
      "2 1\n",
      "2 3\n",
      "2 4\n",
      "3 1\n",
      "3 2\n",
      "3 4\n",
      "4 1\n",
      "4 2\n",
      "4 3\n"
     ]
    }
   ],
   "source": [
    "# 26. Write a program to print all the unique combinations of 1,2,3 and 4\n",
    "\n",
    "for i in range(1,5):\n",
    "    for j in range(1,5):\n",
    "        if i != j:\n",
    "            print(i,j)\n",
    "    "
   ]
  },
  {
   "cell_type": "code",
   "execution_count": 124,
   "id": "f560f7ad",
   "metadata": {},
   "outputs": [
    {
     "name": "stdout",
     "output_type": "stream",
     "text": [
      "enter first number24\n",
      "enter second number48\n",
      "HCF: 24\n"
     ]
    }
   ],
   "source": [
    "# 27. User will provide 2 numbers you have to find the HCF of those 2 numbers\n",
    "\n",
    "a = int(input(\"enter first number\"))\n",
    "b = int(input(\"enter second number\"))\n",
    "\n",
    "while a%b != 0:\n",
    "    rem = a%b\n",
    "    a=b\n",
    "    b=rem\n",
    "print(\"HCF:\",b)"
   ]
  },
  {
   "cell_type": "code",
   "execution_count": 128,
   "id": "6c219965",
   "metadata": {},
   "outputs": [
    {
     "name": "stdout",
     "output_type": "stream",
     "text": [
      "enter first number12\n",
      "enter second number24\n",
      "HCF: 12\n",
      "LCM: 24.0\n"
     ]
    }
   ],
   "source": [
    "#28. User will provide 2 numbers you have to find the by LCM of those 2 numbers\n",
    "num1 = int(input(\"enter first number\"))\n",
    "a=num1\n",
    "\n",
    "num2 = int(input(\"enter second number\"))\n",
    "b=num2\n",
    "\n",
    "while a%b != 0:\n",
    "    rem = a%b\n",
    "    a=b\n",
    "    b=rem\n",
    "    \n",
    "hcf = b\n",
    "print(\"HCF:\",hcf)\n",
    "\n",
    "lcm = (num1*num2)/hcf\n",
    "print(\"LCM:\",lcm)"
   ]
  },
  {
   "cell_type": "code",
   "execution_count": 103,
   "id": "7251d621",
   "metadata": {},
   "outputs": [
    {
     "name": "stdout",
     "output_type": "stream",
     "text": [
      "2\n",
      "3\n",
      "5\n",
      "7\n",
      "11\n",
      "13\n",
      "17\n",
      "19\n",
      "23\n",
      "29\n",
      "31\n",
      "37\n",
      "41\n",
      "43\n",
      "47\n",
      "53\n",
      "59\n",
      "61\n",
      "67\n",
      "71\n",
      "73\n",
      "79\n",
      "83\n",
      "89\n",
      "97\n",
      "101\n"
     ]
    }
   ],
   "source": [
    "# 29. Print first 25 prime numbers\n",
    "counter = 0\n",
    "    \n",
    "num = 2\n",
    "\n",
    "while counter <= 25:\n",
    "    \n",
    "    for i in range(2,num):\n",
    "        if num%i == 0:\n",
    "            break\n",
    "    \n",
    "    else:\n",
    "        print(num)\n",
    "        counter = counter + 1\n",
    "    num = num + 1"
   ]
  },
  {
   "cell_type": "code",
   "execution_count": 131,
   "id": "6850d2fd",
   "metadata": {},
   "outputs": [
    {
     "name": "stdout",
     "output_type": "stream",
     "text": [
      "0\n",
      "1\n",
      "2\n",
      "3\n",
      "5\n",
      "8\n",
      "13\n",
      "21\n",
      "34\n",
      "55\n",
      "89\n",
      "144\n",
      "233\n",
      "377\n",
      "610\n",
      "987\n",
      "1597\n",
      "2584\n",
      "4181\n",
      "6765\n"
     ]
    }
   ],
   "source": [
    "# 30. Print the first 20 numbers of a Fibonacci series\n",
    "\n",
    "count = 0\n",
    "a=0\n",
    "b=1\n",
    "print(a)\n",
    "\n",
    "while True:\n",
    "    c=a+b\n",
    "    a=b\n",
    "    b=c\n",
    "    print(c)\n",
    "    count += 1\n",
    "    \n",
    "    if count == 19:\n",
    "        break\n",
    "    \n"
   ]
  },
  {
   "cell_type": "code",
   "execution_count": 135,
   "id": "a5da1d94",
   "metadata": {},
   "outputs": [
    {
     "name": "stdout",
     "output_type": "stream",
     "text": [
      "enter a number2\n",
      "n = 2\n",
      "nn = 22\n",
      "nnn = 222\n",
      "n+nn+nnn = 246\n"
     ]
    }
   ],
   "source": [
    "# 31. Write a Python program that accepts an integer (n) and computes the value of n+nn+nnn\n",
    "\n",
    "n= input(\"enter a number\")\n",
    "print(\"n =\",n)\n",
    "nn= n + n\n",
    "print(\"nn =\",nn)\n",
    "nnn = n + n + n\n",
    "print(\"nnn =\",nnn)\n",
    "c = int(n)+int(nn)+int(nnn)\n",
    "print(\"n+nn+nnn =\",c)"
   ]
  },
  {
   "cell_type": "code",
   "execution_count": 113,
   "id": "50524ac7",
   "metadata": {},
   "outputs": [
    {
     "name": "stdout",
     "output_type": "stream",
     "text": [
      "Enter a number123\n",
      "3\n"
     ]
    }
   ],
   "source": [
    "# 32. Take a number from the user and find the number of digits in it\n",
    "\n",
    "n = int(input(\"Enter a number\"))\n",
    "\n",
    "count = 0\n",
    "\n",
    "for i in str(n):\n",
    "    count = count+1\n",
    "print(count)"
   ]
  },
  {
   "cell_type": "code",
   "execution_count": 137,
   "id": "568471e4",
   "metadata": {},
   "outputs": [
    {
     "name": "stdout",
     "output_type": "stream",
     "text": [
      "Enter a number123\n",
      "3\n"
     ]
    }
   ],
   "source": [
    "n = int(input(\"Enter a number\"))\n",
    "count = 0\n",
    "while n>0:\n",
    "    n= n//10\n",
    "    count += 1\n",
    "print(count)"
   ]
  },
  {
   "cell_type": "code",
   "execution_count": 118,
   "id": "a07956d5",
   "metadata": {},
   "outputs": [
    {
     "name": "stdout",
     "output_type": "stream",
     "text": [
      "enter a number:12\n",
      "1\n",
      "2\n",
      "3\n",
      "4\n",
      "6\n",
      "12\n"
     ]
    }
   ],
   "source": [
    "# 32. Print all factors of a given number provided by the user\n",
    "\n",
    "n = int(input(\"enter a number:\"))\n",
    "\n",
    "for i in range(1,n+1):\n",
    "    if n%i == 0:\n",
    "        print(i)"
   ]
  },
  {
   "cell_type": "code",
   "execution_count": 140,
   "id": "f0dd0c6d",
   "metadata": {},
   "outputs": [
    {
     "name": "stdout",
     "output_type": "stream",
     "text": [
      "enter a number:12345\n",
      "54321\n"
     ]
    }
   ],
   "source": [
    "# 33. Find the reverse of a number provided by the user(any number of digit) \n",
    "\n",
    "n = int(input(\"enter a number:\"))\n",
    "\n",
    "rev = 0\n",
    "\n",
    "while n>0:\n",
    "    \n",
    "    rem = n%10\n",
    "    n = n//10\n",
    "    rev = (rev*10)+rem\n",
    "print(rev)"
   ]
  },
  {
   "cell_type": "code",
   "execution_count": 152,
   "id": "91c99ca6",
   "metadata": {},
   "outputs": [
    {
     "name": "stdout",
     "output_type": "stream",
     "text": [
      "enter number of rows:5\n",
      "*\n",
      "**\n",
      "***\n",
      "****\n",
      "*****\n"
     ]
    }
   ],
   "source": [
    "# 34. Write a program to print the following pattern\n",
    "# *\n",
    "# **\n",
    "# ***\n",
    "# ****\n",
    "# *****\n",
    "n = int(input(\"enter number of rows:\"))\n",
    "\n",
    "for i in range(1,n+1):\n",
    "    for j in range(1,i+1):\n",
    "        print(\"*\",end = \"\")\n",
    "    print(\"\")"
   ]
  },
  {
   "cell_type": "code",
   "execution_count": 318,
   "id": "d08775b3",
   "metadata": {},
   "outputs": [
    {
     "name": "stdout",
     "output_type": "stream",
     "text": [
      "Enter value of n: 5\n",
      "*\n",
      "**\n",
      "***\n",
      "****\n",
      "*****\n",
      "****\n",
      "***\n",
      "**\n",
      "*\n",
      "\n"
     ]
    }
   ],
   "source": [
    "# 35. Write a program to print the following pattern\n",
    "# *\n",
    "# **\n",
    "# ***\n",
    "# **\n",
    "# *\n",
    "n = int(input(\"Enter value of n: \"))\n",
    "for i in range(1,n+1):\n",
    "    for j in range(i):\n",
    "        print(\"*\",end = \"\")\n",
    "    print(\"\")\n",
    "    \n",
    "for k in range(n,0,-1):\n",
    "    for l in range(0,k-1):\n",
    "        print(\"*\",end = \"\")\n",
    "    print(\"\")"
   ]
  },
  {
   "cell_type": "code",
   "execution_count": 298,
   "id": "347dbb89",
   "metadata": {},
   "outputs": [
    {
     "name": "stdout",
     "output_type": "stream",
     "text": [
      "    *\n",
      "   **\n",
      "  ***\n",
      " ****\n",
      "*****\n"
     ]
    }
   ],
   "source": [
    "# 36. Write  a program to print the following pattern\n",
    "#         *\n",
    "#       * * \n",
    "#     * * * \n",
    "#   * * * *\n",
    "# * * * * *\n",
    "\n",
    "for i in range(1,6):\n",
    "    for j in range(1,6-i):\n",
    "        print(end=\" \")\n",
    "    for k in range(1,i+1):\n",
    "        print(\"*\",end=\"\")\n",
    "    print(\"\")"
   ]
  },
  {
   "cell_type": "code",
   "execution_count": 312,
   "id": "95de46be",
   "metadata": {},
   "outputs": [
    {
     "name": "stdout",
     "output_type": "stream",
     "text": [
      "Enter number of rows: 5\n",
      "    * \n",
      "   * * \n",
      "  * * * \n",
      " * * * * \n",
      "* * * * * \n"
     ]
    }
   ],
   "source": [
    "# 36. Write  a program to print the following pattern\n",
    "#         *\n",
    "#       * * *\n",
    "#     * * * * *\n",
    "#    * * * * * * *\n",
    "# * * * * * * * * *\n",
    "\n",
    "n = int(input(\"Enter number of rows: \"))\n",
    "\n",
    "for i in range(0,n):\n",
    "    for j in range(0,n-i-1):\n",
    "        print(end=\" \")\n",
    "    for k in range(0,i+1):\n",
    "        print(\"*\",end = \" \")\n",
    "    print(\"\")"
   ]
  },
  {
   "cell_type": "code",
   "execution_count": 322,
   "id": "f3dda6f9",
   "metadata": {},
   "outputs": [
    {
     "name": "stdout",
     "output_type": "stream",
     "text": [
      "enter number of rows: 5\n",
      "1 \n",
      "1 2 1 \n",
      "1 2 3 2 1 \n",
      "1 2 3 4 3 2 1 \n",
      "1 2 3 4 5 4 3 2 1 \n"
     ]
    }
   ],
   "source": [
    "# 37. Write a program to print the following pattern\n",
    "# 1\n",
    "# 1 2 1\n",
    "# 1 2 3 2 1\n",
    "# 1 2 3 4 3 2 1\n",
    "# 1 2 3 4 5 4 3 2 1\n",
    "\n",
    "n = int(input(\"enter number of rows: \"))\n",
    "\n",
    "for i in range(1,n+1):\n",
    "    for j in range(1,i+1):\n",
    "        print(j,end = \" \")\n",
    "    for k in range(i-1,0,-1):\n",
    "        print(k,end = \" \")\n",
    "    print(\"\")"
   ]
  },
  {
   "cell_type": "code",
   "execution_count": 324,
   "id": "ee4498a9",
   "metadata": {},
   "outputs": [
    {
     "name": "stdout",
     "output_type": "stream",
     "text": [
      "enter number of rows: 4\n",
      "1 \n",
      "2 3 \n",
      "4 5 6 \n",
      "7 8 9 10 \n"
     ]
    }
   ],
   "source": [
    "# 38. Write a program to print the following pattern\n",
    "# 1\n",
    "# 2 3\n",
    "# 4 5 6\n",
    "# 7 8 9 10\n",
    "\n",
    "n = int(input(\"enter number of rows: \"))\n",
    "\n",
    "num = 1\n",
    "\n",
    "for i in range(1,n+1):\n",
    "    for j in range(1,i+1):\n",
    "        print(num,end = \" \")\n",
    "        num += 1\n",
    "    print(\"\")"
   ]
  },
  {
   "cell_type": "code",
   "execution_count": 325,
   "id": "9b9b467d",
   "metadata": {},
   "outputs": [
    {
     "name": "stdout",
     "output_type": "stream",
     "text": [
      "enter a number: 1\n",
      "enter a number: 2\n",
      "enter a number: 3\n",
      "enter a number: 4\n",
      "enter a number: 5\n",
      "enter a number: 0\n",
      "\n",
      "Sum of all numbers is 15\n",
      "\n",
      "Avg of all numbers(excluding zero) is 3.0\n"
     ]
    }
   ],
   "source": [
    "# 39. Write a program that keeps on accepting a number from the \n",
    "# user until the user enters Zero. Display the sum and average of all the numbers.\n",
    "n = int(input(\"enter a number: \"))\n",
    "sum = n\n",
    "\n",
    "count=0\n",
    "while n != 0:\n",
    "    n = int(input(\"enter a number: \"))\n",
    "    sum = sum+n\n",
    "    count = count+1\n",
    "    \n",
    "avg = sum/count\n",
    "\n",
    "print(f'\\nSum of all numbers is {sum}')\n",
    "print(f'\\nAvg of all numbers(excluding zero) is {avg}')"
   ]
  },
  {
   "cell_type": "code",
   "execution_count": 329,
   "id": "d02d75a9",
   "metadata": {},
   "outputs": [
    {
     "name": "stdout",
     "output_type": "stream",
     "text": [
      "Enter numerator: 6\n",
      "Enter denominator: 9\n",
      "2/3\n"
     ]
    }
   ],
   "source": [
    "# 40. Write a program that accepts 2 numbers from the user a numerator and a denominator \n",
    "# and then simplifies it\n",
    "# Eg if the num = 5, den = 15 the answer should be ⅓\n",
    "# Eg if the num = 6, den = 9 the answer should be ⅔\n",
    "\n",
    "num = int(input(\"Enter numerator: \"))\n",
    "a=num\n",
    "den = int(input(\"Enter denominator: \"))\n",
    "b=den\n",
    "\n",
    "while a%b != 0:\n",
    "    rem = a%b\n",
    "    a = b\n",
    "    b = rem\n",
    "\n",
    "hcf = b\n",
    "num = num/hcf\n",
    "den = den/hcf\n",
    "print(f'{int(num)}/{int(den)}')"
   ]
  },
  {
   "cell_type": "code",
   "execution_count": 250,
   "id": "a4dcfe98",
   "metadata": {},
   "outputs": [
    {
     "name": "stdout",
     "output_type": "stream",
     "text": [
      "enter a string: bilal khan\n",
      "\n",
      "The length of given string is 10.\n"
     ]
    }
   ],
   "source": [
    "# 41. Find the length of a given string without using the len() function. \n",
    "\n",
    "length = 0\n",
    "\n",
    "user_input = input(\"enter a string: \")\n",
    "\n",
    "for i in user_input:\n",
    "    length += 1\n",
    "print(f'\\nThe length of given string is {length}.')"
   ]
  },
  {
   "cell_type": "code",
   "execution_count": 253,
   "id": "ef6c3520",
   "metadata": {},
   "outputs": [
    {
     "name": "stdout",
     "output_type": "stream",
     "text": [
      "enter email: bilal123@gmail.com\n",
      "bilal123"
     ]
    }
   ],
   "source": [
    "# 42. Extract username from a given email. \n",
    "# Eg if the email is bilal123@gmail.com then the username should be bilal123\n",
    "\n",
    "email = input(\"enter email: \")\n",
    "\n",
    "for i in email:\n",
    "    if i == \"@\":\n",
    "        break\n",
    "    else:\n",
    "        print(i,end = \"\")"
   ]
  },
  {
   "cell_type": "code",
   "execution_count": 257,
   "id": "f6abc8b4",
   "metadata": {},
   "outputs": [
    {
     "name": "stdout",
     "output_type": "stream",
     "text": [
      "enter a string: hello how are you\n",
      "enter character: h\n",
      "2\n"
     ]
    }
   ],
   "source": [
    "# 43. Count the frequency of a particular character in a provided string.\n",
    "# Eg 'hello how are you' is the string, the frequency of h in this string is 2.\n",
    "\n",
    "user_input = input(\"enter a string: \")\n",
    "char = input(\"enter character: \")\n",
    "\n",
    "count = 0\n",
    "for i in user_input:\n",
    "    if i == char:\n",
    "        count += 1\n",
    "        \n",
    "print(count)"
   ]
  },
  {
   "cell_type": "code",
   "execution_count": 270,
   "id": "0f2a83a3",
   "metadata": {},
   "outputs": [
    {
     "name": "stdout",
     "output_type": "stream",
     "text": [
      "enter a string:bilal\n",
      "enter character:l\n",
      "2\n",
      "4\n"
     ]
    }
   ],
   "source": [
    "# 44. Find the all index position of a particular character in another string. \n",
    "\n",
    "user_input = input(\"enter a string:\")\n",
    "char = input(\"enter character:\")\n",
    "\n",
    "index = 0\n",
    "for i in user_input:\n",
    "    if i == char:\n",
    "        print(index)\n",
    "        index += 1\n",
    "    else:\n",
    "        index += 1"
   ]
  },
  {
   "cell_type": "code",
   "execution_count": 269,
   "id": "ca5815e9",
   "metadata": {},
   "outputs": [
    {
     "name": "stdout",
     "output_type": "stream",
     "text": [
      "enter a string:bilal\n",
      "enter character:l\n",
      "2\n"
     ]
    }
   ],
   "source": [
    "# 44. Find the first index position of a particular character in another string. \n",
    "\n",
    "user_input = input(\"enter a string:\")\n",
    "char = input(\"enter character:\")\n",
    "\n",
    "index = 0\n",
    "for i in user_input:\n",
    "    if i == char:\n",
    "        print(index)\n",
    "        break\n",
    "    else:\n",
    "        index += 1"
   ]
  },
  {
   "cell_type": "code",
   "execution_count": 276,
   "id": "872ceca8",
   "metadata": {},
   "outputs": [
    {
     "name": "stdout",
     "output_type": "stream",
     "text": [
      "enter a string: Ali\n",
      "\n",
      "Number of vowels in this string are 2.\n"
     ]
    }
   ],
   "source": [
    "# 45. Count the number of vowels in a string provided by the user.\n",
    "\n",
    "user_input = input(\"enter a string: \")\n",
    "\n",
    "count = 0\n",
    "for i in user_input:\n",
    "    if i in (\"a\",\"e\",\"i\",\"o\",\"u\",\"A\",\"E\",\"I\",\"O\",\"U\"):\n",
    "        count += 1\n",
    "        \n",
    "print(f'\\nNumber of vowels in this string are {count}.')"
   ]
  },
  {
   "cell_type": "code",
   "execution_count": 283,
   "id": "619b45d0",
   "metadata": {},
   "outputs": [
    {
     "name": "stdout",
     "output_type": "stream",
     "text": [
      "enter a stringmy name is bilal\n",
      "enter character to remove from string:i\n",
      "my name s blal"
     ]
    }
   ],
   "source": [
    "# 46. Write a program which can remove a particular character from a string.\n",
    "\n",
    "user_input = input(\"enter a string\")\n",
    "\n",
    "char = input(\"enter character to remove from string:\")\n",
    "\n",
    "for i in user_input:\n",
    "    if i != char:\n",
    "        print(i,end=\"\")"
   ]
  },
  {
   "cell_type": "code",
   "execution_count": 286,
   "id": "adf6550b",
   "metadata": {},
   "outputs": [
    {
     "name": "stdout",
     "output_type": "stream",
     "text": [
      "enter a string: abba\n",
      "palindrome\n"
     ]
    }
   ],
   "source": [
    "# 47. Write a program that can check whether a given string is palindrome or not.\n",
    "user_input = input(\"enter a string: \")\n",
    "\n",
    "if user_input == user_input[::-1]:\n",
    "    print(\"palindrome\")\n",
    "else:\n",
    "    print(\"Not a palindrome\")"
   ]
  },
  {
   "cell_type": "code",
   "execution_count": 337,
   "id": "5746b175",
   "metadata": {},
   "outputs": [
    {
     "name": "stdout",
     "output_type": "stream",
     "text": [
      "enter a string: madam\n",
      "madam\n",
      "Palindrome\n"
     ]
    }
   ],
   "source": [
    "user_input = input(\"enter a string: \")\n",
    "\n",
    "rev = ''\n",
    "\n",
    "for i in range(len(user_input)-1,-1,-1):\n",
    "    rev = rev + user_input[i]\n",
    "\n",
    "print(rev)\n",
    "\n",
    "if rev == user_input:\n",
    "    print(\"Palindrome\")\n",
    "else:\n",
    "    print(\"Not a palindrome\")"
   ]
  },
  {
   "cell_type": "code",
   "execution_count": 340,
   "id": "101e1492",
   "metadata": {},
   "outputs": [
    {
     "name": "stdout",
     "output_type": "stream",
     "text": [
      "[1, 2, 3, 4, 5, 6]\n"
     ]
    }
   ],
   "source": [
    "# 48. Write a python program to remove all the duplicates from a list\n",
    "\n",
    "a = [1,2,3,1,2,4,5,6]\n",
    "b = []\n",
    "\n",
    "for i in a:\n",
    "    if i not in b:\n",
    "        b.append(i)\n",
    "print(b)"
   ]
  },
  {
   "cell_type": "code",
   "execution_count": 362,
   "id": "2da479cc",
   "metadata": {},
   "outputs": [
    {
     "name": "stdout",
     "output_type": "stream",
     "text": [
      "[1, 2, 3, 4, 5]\n"
     ]
    }
   ],
   "source": [
    "# 48. Write a python program to remove all the duplicates from a list\n",
    "\n",
    "def remove_duplicates(input_list):\n",
    "    index = 0\n",
    "    while index < len(input_list):\n",
    "        current_element = input_list[index]\n",
    "        inner_index = index + 1\n",
    "        while inner_index < len(input_list):\n",
    "            if input_list[inner_index] == current_element:\n",
    "                input_list.pop(inner_index)\n",
    "            else:\n",
    "                inner_index += 1\n",
    "        index += 1\n",
    "\n",
    "\n",
    "my_list = [1, 2, 2, 3, 4, 4, 5]\n",
    "remove_duplicates(my_list)\n",
    "print(my_list)"
   ]
  },
  {
   "cell_type": "code",
   "execution_count": 359,
   "id": "a5af4c51",
   "metadata": {},
   "outputs": [
    {
     "name": "stdout",
     "output_type": "stream",
     "text": [
      "True\n",
      "False\n"
     ]
    }
   ],
   "source": [
    "def is_symmetric(matrix):\n",
    "    # Check if the matrix is square (number of rows == number of columns)\n",
    "    num_rows = len(matrix)\n",
    "    num_cols = len(matrix[0])\n",
    "\n",
    "    if num_rows != num_cols:\n",
    "        return False\n",
    "\n",
    "    # Check if the elements match their corresponding elements in the transposed matrix\n",
    "    for i in range(num_rows):\n",
    "        for j in range(num_cols):\n",
    "            if matrix[i][j] != matrix[j][i]:\n",
    "                return False\n",
    "\n",
    "    return True\n",
    "\n",
    "# Example usage:\n",
    "matrix1 = [[1, 2, 3],\n",
    "           [2, 4, 5],\n",
    "           [3, 5, 6]]\n",
    "\n",
    "matrix2 = [[1, 2, 3],\n",
    "           [2, 5, 9],\n",
    "           [3, 2, 1]]\n",
    "\n",
    "print(is_symmetric(matrix1))  # True (symmetric)\n",
    "print(is_symmetric(matrix2))  # False (not symmetric)\n"
   ]
  },
  {
   "cell_type": "code",
   "execution_count": 2,
   "id": "6301295d",
   "metadata": {},
   "outputs": [
    {
     "name": "stdout",
     "output_type": "stream",
     "text": [
      "9\n",
      "18\n",
      "27\n",
      "36\n",
      "45\n",
      "54\n",
      "63\n",
      "72\n",
      "81\n",
      "90\n"
     ]
    }
   ],
   "source": [
    "for i in range(1,11):\n",
    "    print(9*i)"
   ]
  },
  {
   "cell_type": "code",
   "execution_count": 7,
   "id": "230e5c0a",
   "metadata": {},
   "outputs": [
    {
     "name": "stdout",
     "output_type": "stream",
     "text": [
      "6\n",
      "7\n"
     ]
    }
   ],
   "source": [
    "# count number of vowels and con in string\n",
    "a = 'i love pakistan'\n",
    "c1=0\n",
    "c2=0\n",
    "for i in a:\n",
    "    if i in ('a','e','i','o','u'):\n",
    "        c1 += 1\n",
    "    elif i != ' ':\n",
    "        c2 += 1\n",
    "print(c1)\n",
    "print(c2)"
   ]
  },
  {
   "cell_type": "code",
   "execution_count": 16,
   "id": "f9d52c71",
   "metadata": {},
   "outputs": [
    {
     "name": "stdout",
     "output_type": "stream",
     "text": [
      "MY\n",
      "NAME\n",
      "IS\n",
      "BILAL\n"
     ]
    }
   ],
   "source": [
    "# Write a python program to convert a string to title case without using the title()\n",
    "a = 'my name is bilal'\n",
    "b = a.split()\n",
    "\n",
    "for i in b:\n",
    "    c = i.upper()\n",
    "    print(c)"
   ]
  },
  {
   "cell_type": "code",
   "execution_count": 21,
   "id": "810bb91e",
   "metadata": {},
   "outputs": [
    {
     "name": "stdout",
     "output_type": "stream",
     "text": [
      "23\n"
     ]
    }
   ],
   "source": [
    "# Write a python program to find the max item from a list without using the max function\n",
    "a = [2,1,23,4,9,7,8]\n",
    "b = 0\n",
    "for i in range(len(a)):\n",
    "    if a[i]>b:\n",
    "        b = a[i]\n",
    "print(b)"
   ]
  },
  {
   "cell_type": "code",
   "execution_count": 22,
   "id": "70d8a8d3",
   "metadata": {},
   "outputs": [
    {
     "name": "stdout",
     "output_type": "stream",
     "text": [
      "[4, 3, 2, 1]\n"
     ]
    }
   ],
   "source": [
    "# Write a python program to reverse a list\n",
    "\n",
    "a = [1,2,3,4]\n",
    "# b = a[::-1]\n",
    "# print(b)\n",
    "\n",
    "for i in range(len(a)):\n",
    "    a[i]=a[]"
   ]
  },
  {
   "cell_type": "code",
   "execution_count": 25,
   "id": "1f6d1bef",
   "metadata": {},
   "outputs": [
    {
     "name": "stdout",
     "output_type": "stream",
     "text": [
      "0\n"
     ]
    }
   ],
   "source": [
    "# Write a python program to search a given number from a list\n",
    "\n",
    "a = [1,4,8,5]\n",
    "item = 1\n",
    "for i in range(len(a)):\n",
    "    if a[i] == item:\n",
    "        print(i)"
   ]
  },
  {
   "cell_type": "code",
   "execution_count": 29,
   "id": "33154ab0",
   "metadata": {},
   "outputs": [
    {
     "data": {
      "text/plain": [
       "5"
      ]
     },
     "execution_count": 29,
     "metadata": {},
     "output_type": "execute_result"
    }
   ],
   "source": [
    "def bin_search(arr,low,high,item):\n",
    "    if low <= high:\n",
    "        mid = (low+high) // 2\n",
    "        if arr[mid] == item:\n",
    "            return mid\n",
    "        elif arr[mid] > item:\n",
    "            return bin_search(arr,low,mid-1,item)\n",
    "        else:\n",
    "            return bin_search(arr,mid+1,high,item)\n",
    "    else:\n",
    "        print(\"Not found\")\n",
    "        \n",
    "arr = [2,4,6,8,45,78]       \n",
    "bin_search(arr,0,len(arr)-1,78)"
   ]
  },
  {
   "cell_type": "code",
   "execution_count": 30,
   "id": "0043c113",
   "metadata": {},
   "outputs": [
    {
     "name": "stdout",
     "output_type": "stream",
     "text": [
      "[1, 4, 9, 16, 25]\n"
     ]
    }
   ],
   "source": [
    "# Write a program that can create a new list from a given list \n",
    "# where each item in the new list is square of the item of the old list\n",
    "\n",
    "a = [1,2,3,4,5]\n",
    "b = [i**2 for i in a]\n",
    "print(b)"
   ]
  },
  {
   "cell_type": "code",
   "execution_count": 33,
   "id": "d147d867",
   "metadata": {},
   "outputs": [
    {
     "data": {
      "text/plain": [
       "[1, 4, 9, 16, 25]"
      ]
     },
     "execution_count": 33,
     "metadata": {},
     "output_type": "execute_result"
    }
   ],
   "source": [
    "def sq_list(l):\n",
    "    new_list = []\n",
    "    for i in l:\n",
    "        new_list.append(i**2)\n",
    "    return new_list\n",
    "\n",
    "sq_list([1,2,3,4,5])"
   ]
  },
  {
   "cell_type": "code",
   "execution_count": 37,
   "id": "cbe82715",
   "metadata": {},
   "outputs": [
    {
     "name": "stdout",
     "output_type": "stream",
     "text": [
      "['you', 'are', 'how', 'Hello']\n"
     ]
    }
   ],
   "source": [
    "# Write a program that can reverse words of a given string.\n",
    "# Eg if the input is Hello how are you\n",
    "# Output should be you are how Hello\n",
    "\n",
    "a = 'Hello how are you'\n",
    "\n",
    "b = a.split()\n",
    "c = b[::-1]\n",
    "print(c)"
   ]
  },
  {
   "cell_type": "code",
   "execution_count": null,
   "id": "070dc419",
   "metadata": {},
   "outputs": [],
   "source": []
  }
 ],
 "metadata": {
  "kernelspec": {
   "display_name": "Python 3 (ipykernel)",
   "language": "python",
   "name": "python3"
  },
  "language_info": {
   "codemirror_mode": {
    "name": "ipython",
    "version": 3
   },
   "file_extension": ".py",
   "mimetype": "text/x-python",
   "name": "python",
   "nbconvert_exporter": "python",
   "pygments_lexer": "ipython3",
   "version": "3.9.13"
  }
 },
 "nbformat": 4,
 "nbformat_minor": 5
}
